{
  "nbformat": 4,
  "nbformat_minor": 0,
  "metadata": {
    "colab": {
      "name": "1주차과제_김준민",
      "provenance": [],
      "collapsed_sections": [],
      "authorship_tag": "ABX9TyNfPGKUPj770NCDSRl4ZdpQ",
      "include_colab_link": true
    },
    "kernelspec": {
      "name": "python3",
      "display_name": "Python 3"
    }
  },
  "cells": [
    {
      "cell_type": "markdown",
      "metadata": {
        "id": "view-in-github",
        "colab_type": "text"
      },
      "source": [
        "<a href=\"https://colab.research.google.com/github/june0348/Test/blob/master/1%EC%A3%BC%EC%B0%A8%EA%B3%BC%EC%A0%9C_%EA%B9%80%EC%A4%80%EB%AF%BC.ipynb\" target=\"_parent\"><img src=\"https://colab.research.google.com/assets/colab-badge.svg\" alt=\"Open In Colab\"/></a>"
      ]
    },
    {
      "cell_type": "markdown",
      "metadata": {
        "id": "w3ZEFtaK6F40",
        "colab_type": "text"
      },
      "source": [
        "# 인공지능 사관학교 1주차 과제\n",
        "\n",
        "<인공지능을 사용하는 4가지 제품 혹은 서비스>\n",
        "###1. 구글 딥마인드의 '알파고'\n",
        "\n",
        "  2016년 이세돌 선수와 바둑 대결을 진행하면서 유명해진 구글 딥마인드에서 개발한 알파고. 수만가지의 기본 선수들의 기보를 딥러닝하여 개발에 성공했다. 최근에는 에어전트57이라는 57가지의 아타리 게임을 스스로 플레이하고, 사람이 세운 최고의 기록을 넘어서는 것을 목표로 하여 개발하고 있습니다.\n",
        "\n",
        "###2. 구글의 '구글 어시스턴트'\n",
        "\n",
        " 구글에서 개발하고 현제 안드로이드 스마트폰 대부분에 적용된 인공지능 AI비서이다. 인공지능 기반의 음성인식을 지원하고, 사용자가 질문하는 것에 대한 대답과 어플 실행, 활동 관리등 여러 서비스를 지원하고 있다. 최근에는 구글 어시스턴트'의 진화 버전으로 듀플렉스를 발표했는데, 미용실 예약과 식당 예약등 사람과의 지속적인 대화가 가능 한 것을 보여주었다.\n",
        "\n",
        "###3. 삼성전자의 '빅스비'\n",
        "\n",
        " 삼성전자와 비브가 협력하여 개발한 딥러닝 기반의 인공지능 서비스이다. 빅스비 비전이라 하여 사물을 인식하여 텍스트 추출, 비슷한 제품 쇼핑몰 연결 등 스마트폰 화명의 객체를 분석하여 여러 작업을 수행할 수 있다. 최근 업데이트를 통해 서드파티 개발자가 캡슐을 추가 할 수 있게 되면서 기능 추가가 가능해젔다.\n",
        "\n",
        "###4. openAI의 'openAI'\n",
        "\n",
        "  앨론 머스크과 샘 알트만이 공돟 설립한 비영리 회사 openAI에서 개발한 'openAI'라는 인공지능이다. 딥러닝 시스템을 사용하여 자기 자신과의 셀프트레이닝, 개발자에게 스크렙트를 받고 성장하는 것이 아닌  스스로 학습한다. Dota2라는 게임에서 프로게이머와 1대1에서 승리하여 사람보다 더 잘하는 봇으로, 상대방이 경험치와 돈을 못먹게 하기 위해 자기편의 미니언을 사냥, 경험치 시야 밖으로 밀어내는 존아웃, 돌발상황, 추격 등 스스로 익혀서 1vs1에 최선의 시나리오를 짜는 것으로 유명하다.\n",
        "\n"
      ]
    }
  ]
}