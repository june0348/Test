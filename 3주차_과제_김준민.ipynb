{
  "nbformat": 4,
  "nbformat_minor": 0,
  "metadata": {
    "colab": {
      "name": "3주차 과제_김준민",
      "provenance": [],
      "collapsed_sections": [],
      "include_colab_link": true
    },
    "kernelspec": {
      "name": "python3",
      "display_name": "Python 3"
    }
  },
  "cells": [
    {
      "cell_type": "markdown",
      "metadata": {
        "id": "view-in-github",
        "colab_type": "text"
      },
      "source": [
        "<a href=\"https://colab.research.google.com/github/june0348/Test/blob/master/3%EC%A3%BC%EC%B0%A8_%EA%B3%BC%EC%A0%9C_%EA%B9%80%EC%A4%80%EB%AF%BC.ipynb\" target=\"_parent\"><img src=\"https://colab.research.google.com/assets/colab-badge.svg\" alt=\"Open In Colab\"/></a>"
      ]
    },
    {
      "cell_type": "markdown",
      "metadata": {
        "id": "YbgBvQ6DjxMm",
        "colab_type": "text"
      },
      "source": [
        "# 3주차 과제\n",
        "- 학습률 최적화\n",
        "- 군집 분석(병합 계층 군집) 구현 클론 코딩\n",
        "- Cost function 구현"
      ]
    },
    {
      "cell_type": "markdown",
      "metadata": {
        "id": "evbG1BaNI1qd",
        "colab_type": "text"
      },
      "source": [
        "## 1. 학습률 최적화"
      ]
    },
    {
      "cell_type": "markdown",
      "metadata": {
        "id": "rqvqy18tI5Q5",
        "colab_type": "text"
      },
      "source": [
        "간단한 예제를 통해 학습률 최적화의 중요성에 대해서 확인 해 보도록 하겠습니다.\n",
        "\n",
        "아래 링크에서 __1단계만__에 손실 곡선의 최저점에 도달하게 하는 학습률을 찾아 정답을 적어주세요\n",
        "\n",
        "링크: https://developers.google.com/machine-learning/crash-course/fitter/graph?hl=ko"
      ]
    },
    {
      "cell_type": "markdown",
      "metadata": {
        "id": "HKdQdHs3Sax-",
        "colab_type": "text"
      },
      "source": [
        "### 정답 : 1.6"
      ]
    },
    {
      "cell_type": "markdown",
      "metadata": {
        "id": "zBuhqFe3SjKX",
        "colab_type": "text"
      },
      "source": [
        "## 2. 군집 분석(병합 계층 군집) 구현 클론 코딩"
      ]
    },
    {
      "cell_type": "markdown",
      "metadata": {
        "id": "SEuHj4ps1vcp",
        "colab_type": "text"
      },
      "source": [
        "군집 분석 강의(군집문제[2] 3:10 ~ 5:20 부분)를 보고 코드를 따라 치며 출력 결과(과제 설명 페이지 참고)를 만드세요. \n",
        "\n",
        "강의에서는 데이터 시각화까지 진행하지만 \n",
        "과제에서는 표를 출력하는 것 까지만 하시면 됩니다.\n",
        "\n",
        "3주차 과제 안내 페이지를 보시면 표에 대한 이미지가 있습니다. 참고해주세요"
      ]
    },
    {
      "cell_type": "code",
      "metadata": {
        "id": "JN1YPCENSphW",
        "colab_type": "code",
        "outputId": "b5c51ad2-6a5e-4854-8646-d7d413cd8a65",
        "colab": {
          "base_uri": "https://localhost:8080/",
          "height": 107
        }
      },
      "source": [
        "# 굽집 분석을 진행하기 위한 샘플 생성\n",
        "import numpy as np                                                              # 넘파이을 사용하여 구축\n",
        "np.random.seed(123)\n",
        "X = np.random.random_sample([5, 3]) * 10                                        # 무작위 함수를 통해 [5,3]행렬에 0~1사이의 임의의 실수 생성 및 거리값을 위한 10정도 곱\n",
        "\n",
        "X"
      ],
      "execution_count": 17,
      "outputs": [
        {
          "output_type": "execute_result",
          "data": {
            "text/plain": [
              "array([[6.96469186, 2.86139335, 2.26851454],\n",
              "       [5.51314769, 7.1946897 , 4.2310646 ],\n",
              "       [9.80764198, 6.84829739, 4.80931901],\n",
              "       [3.92117518, 3.43178016, 7.29049707],\n",
              "       [4.38572245, 0.59677897, 3.98044255]])"
            ]
          },
          "metadata": {
            "tags": []
          },
          "execution_count": 17
        }
      ]
    },
    {
      "cell_type": "code",
      "metadata": {
        "id": "ck00pZqZL9pD",
        "colab_type": "code",
        "outputId": "6e71cfba-e1ea-44d3-9b2b-abe3ccb558c3",
        "colab": {
          "base_uri": "https://localhost:8080/",
          "height": 204
        }
      },
      "source": [
        "import pandas as pd                                                 \n",
        "variables = ['X', 'Y', 'Z']\n",
        "labels = ['ID_0', 'ID_1', 'ID_2', 'ID_3', 'ID_4']\n",
        "df = pd.DataFrame(X, columns=variables, index=labels)                           # 판다스에 데이터 프레임 방식으로 저장\n",
        "df"
      ],
      "execution_count": 18,
      "outputs": [
        {
          "output_type": "execute_result",
          "data": {
            "text/html": [
              "<div>\n",
              "<style scoped>\n",
              "    .dataframe tbody tr th:only-of-type {\n",
              "        vertical-align: middle;\n",
              "    }\n",
              "\n",
              "    .dataframe tbody tr th {\n",
              "        vertical-align: top;\n",
              "    }\n",
              "\n",
              "    .dataframe thead th {\n",
              "        text-align: right;\n",
              "    }\n",
              "</style>\n",
              "<table border=\"1\" class=\"dataframe\">\n",
              "  <thead>\n",
              "    <tr style=\"text-align: right;\">\n",
              "      <th></th>\n",
              "      <th>X</th>\n",
              "      <th>Y</th>\n",
              "      <th>Z</th>\n",
              "    </tr>\n",
              "  </thead>\n",
              "  <tbody>\n",
              "    <tr>\n",
              "      <th>ID_0</th>\n",
              "      <td>6.964692</td>\n",
              "      <td>2.861393</td>\n",
              "      <td>2.268515</td>\n",
              "    </tr>\n",
              "    <tr>\n",
              "      <th>ID_1</th>\n",
              "      <td>5.513148</td>\n",
              "      <td>7.194690</td>\n",
              "      <td>4.231065</td>\n",
              "    </tr>\n",
              "    <tr>\n",
              "      <th>ID_2</th>\n",
              "      <td>9.807642</td>\n",
              "      <td>6.848297</td>\n",
              "      <td>4.809319</td>\n",
              "    </tr>\n",
              "    <tr>\n",
              "      <th>ID_3</th>\n",
              "      <td>3.921175</td>\n",
              "      <td>3.431780</td>\n",
              "      <td>7.290497</td>\n",
              "    </tr>\n",
              "    <tr>\n",
              "      <th>ID_4</th>\n",
              "      <td>4.385722</td>\n",
              "      <td>0.596779</td>\n",
              "      <td>3.980443</td>\n",
              "    </tr>\n",
              "  </tbody>\n",
              "</table>\n",
              "</div>"
            ],
            "text/plain": [
              "             X         Y         Z\n",
              "ID_0  6.964692  2.861393  2.268515\n",
              "ID_1  5.513148  7.194690  4.231065\n",
              "ID_2  9.807642  6.848297  4.809319\n",
              "ID_3  3.921175  3.431780  7.290497\n",
              "ID_4  4.385722  0.596779  3.980443"
            ]
          },
          "metadata": {
            "tags": []
          },
          "execution_count": 18
        }
      ]
    },
    {
      "cell_type": "code",
      "metadata": {
        "id": "IO4SGEFO09rF",
        "colab_type": "code",
        "outputId": "cebdb76e-92ee-4244-ece8-4b5e540206fe",
        "colab": {
          "base_uri": "https://localhost:8080/",
          "height": 53
        }
      },
      "source": [
        "# 계층군집 알고리즘의 입력에 사용할 거리 행렬 계산\n",
        "# scipy.spatial.distace 모듈에서 pdist 함수를 사용\n",
        "from scipy.spatial.distance import pdist, squareform                            # pdist() 축약된 거리 행렬\n",
        "\n",
        "Y = pdist(df)        # df < - X, Y, Z\n",
        "Y\n",
        "\n",
        "# 입력으로 들어온 X,Y,Z 값에 대하여 축약된 거리 행렬 값으로 반환"
      ],
      "execution_count": 19,
      "outputs": [
        {
          "output_type": "execute_result",
          "data": {
            "text/plain": [
              "array([4.973534  , 5.51665266, 5.89988504, 3.83539555, 4.34707339,\n",
              "       5.10431109, 6.69823298, 7.24426159, 8.31659367, 4.382864  ])"
            ]
          },
          "metadata": {
            "tags": []
          },
          "execution_count": 19
        }
      ]
    },
    {
      "cell_type": "code",
      "metadata": {
        "id": "Nt8owBn309j2",
        "colab_type": "code",
        "outputId": "c4366c46-d9fd-49a6-9cae-1688e0702b62",
        "colab": {
          "base_uri": "https://localhost:8080/",
          "height": 125
        }
      },
      "source": [
        "row_dist = pd.DataFrame(squareform(pdist(df, metric='euclidean')),              # 거리 계산은 유클리디안('enclidean') / squareform(): 거리행렬 벡터를 행렬형식으로 변환\n",
        "                        columns = labels, index=labels)\n",
        "\n",
        "# 완전연결 병합방식을 적용하기 위해 scipy.cluster.hierarchy 모듈에 linkage 함수를 사용\n",
        "from scipy.cluster.hierarchy import linkage\n",
        "\n",
        "# linkage 함수에 무작정 squareform을 통과한 데이터 프레임 넣어주면 기대한 값과는 다른 결과가 나옴\n",
        "row_clusters = linkage(row_dist, \n",
        "                       method='complete', \n",
        "                       metric='euclidean')\n",
        "\n",
        "# help(linkage)\n",
        "# pdist 함수에서 축약된 거리 행렬을 입력 속성으로 사용.\n",
        "# linkage 함수에서 초기 데이터 배열을 전달하고 'euclidean' 지표를 매개변수로 사용.\n",
        "\n",
        "row_clusters"
      ],
      "execution_count": 20,
      "outputs": [
        {
          "output_type": "stream",
          "text": [
            "/usr/local/lib/python3.6/dist-packages/ipykernel_launcher.py:10: ClusterWarning: scipy.cluster: The symmetric non-negative hollow observation matrix looks suspiciously like an uncondensed distance matrix\n",
            "  # Remove the CWD from sys.path while we load stuff.\n"
          ],
          "name": "stderr"
        },
        {
          "output_type": "execute_result",
          "data": {
            "text/plain": [
              "array([[ 0.        ,  4.        ,  6.52197264,  2.        ],\n",
              "       [ 1.        ,  2.        ,  6.72960262,  2.        ],\n",
              "       [ 3.        ,  5.        ,  8.53924727,  3.        ],\n",
              "       [ 6.        ,  7.        , 12.44482356,  5.        ]])"
            ]
          },
          "metadata": {
            "tags": []
          },
          "execution_count": 20
        }
      ]
    },
    {
      "cell_type": "code",
      "metadata": {
        "id": "1v5Po9m609cG",
        "colab_type": "code",
        "outputId": "60e32b87-9973-4506-bef0-ebd7fa170b72",
        "colab": {
          "base_uri": "https://localhost:8080/",
          "height": 89
        }
      },
      "source": [
        "# 축약된 거리 행렬을 사용하여 올바른 거리 행렬 얻음\n",
        "row_clusters = linkage(pdist(df, metric='euclidean'), \n",
        "                       method='complete')\n",
        "\n",
        "row_clusters"
      ],
      "execution_count": 21,
      "outputs": [
        {
          "output_type": "execute_result",
          "data": {
            "text/plain": [
              "array([[0.        , 4.        , 3.83539555, 2.        ],\n",
              "       [1.        , 2.        , 4.34707339, 2.        ],\n",
              "       [3.        , 5.        , 5.89988504, 3.        ],\n",
              "       [6.        , 7.        , 8.31659367, 5.        ]])"
            ]
          },
          "metadata": {
            "tags": []
          },
          "execution_count": 21
        }
      ]
    },
    {
      "cell_type": "code",
      "metadata": {
        "id": "QqwYbMOb09Sb",
        "colab_type": "code",
        "outputId": "72713b3f-b2ac-45d7-fbf3-9e4729e2a5d8",
        "colab": {
          "base_uri": "https://localhost:8080/",
          "height": 89
        }
      },
      "source": [
        "# 원본 샘플 행렬을 사용하여 올바른 연결 행렬을 얻음\n",
        "row_clusters = linkage(df.values, \n",
        "                       method='complete', \n",
        "                       metric='euclidean')\n",
        "row_clusters"
      ],
      "execution_count": 22,
      "outputs": [
        {
          "output_type": "execute_result",
          "data": {
            "text/plain": [
              "array([[0.        , 4.        , 3.83539555, 2.        ],\n",
              "       [1.        , 2.        , 4.34707339, 2.        ],\n",
              "       [3.        , 5.        , 5.89988504, 3.        ],\n",
              "       [6.        , 7.        , 8.31659367, 5.        ]])"
            ]
          },
          "metadata": {
            "tags": []
          },
          "execution_count": 22
        }
      ]
    },
    {
      "cell_type": "code",
      "metadata": {
        "id": "ywZTLDJ61Ddm",
        "colab_type": "code",
        "outputId": "9adf42bc-dacb-46f6-9c01-fb54f75f34f1",
        "colab": {
          "base_uri": "https://localhost:8080/",
          "height": 173
        }
      },
      "source": [
        "# 군집 결과를 자세히 살펴보기 위해 군집결과를 판다스 데이터프레임(pd.DataFrame) 형식으로 변환\n",
        "pd.DataFrame(row_clusters,\n",
        "             columns = ['row label 1', 'row label 2', 'distance', 'no. of items in clust.'], \n",
        "             index = ['cluster %d' %(i+1) for i in range(row_clusters.shape[0])])"
      ],
      "execution_count": 23,
      "outputs": [
        {
          "output_type": "execute_result",
          "data": {
            "text/html": [
              "<div>\n",
              "<style scoped>\n",
              "    .dataframe tbody tr th:only-of-type {\n",
              "        vertical-align: middle;\n",
              "    }\n",
              "\n",
              "    .dataframe tbody tr th {\n",
              "        vertical-align: top;\n",
              "    }\n",
              "\n",
              "    .dataframe thead th {\n",
              "        text-align: right;\n",
              "    }\n",
              "</style>\n",
              "<table border=\"1\" class=\"dataframe\">\n",
              "  <thead>\n",
              "    <tr style=\"text-align: right;\">\n",
              "      <th></th>\n",
              "      <th>row label 1</th>\n",
              "      <th>row label 2</th>\n",
              "      <th>distance</th>\n",
              "      <th>no. of items in clust.</th>\n",
              "    </tr>\n",
              "  </thead>\n",
              "  <tbody>\n",
              "    <tr>\n",
              "      <th>cluster 1</th>\n",
              "      <td>0.0</td>\n",
              "      <td>4.0</td>\n",
              "      <td>3.835396</td>\n",
              "      <td>2.0</td>\n",
              "    </tr>\n",
              "    <tr>\n",
              "      <th>cluster 2</th>\n",
              "      <td>1.0</td>\n",
              "      <td>2.0</td>\n",
              "      <td>4.347073</td>\n",
              "      <td>2.0</td>\n",
              "    </tr>\n",
              "    <tr>\n",
              "      <th>cluster 3</th>\n",
              "      <td>3.0</td>\n",
              "      <td>5.0</td>\n",
              "      <td>5.899885</td>\n",
              "      <td>3.0</td>\n",
              "    </tr>\n",
              "    <tr>\n",
              "      <th>cluster 4</th>\n",
              "      <td>6.0</td>\n",
              "      <td>7.0</td>\n",
              "      <td>8.316594</td>\n",
              "      <td>5.0</td>\n",
              "    </tr>\n",
              "  </tbody>\n",
              "</table>\n",
              "</div>"
            ],
            "text/plain": [
              "           row label 1  row label 2  distance  no. of items in clust.\n",
              "cluster 1          0.0          4.0  3.835396                     2.0\n",
              "cluster 2          1.0          2.0  4.347073                     2.0\n",
              "cluster 3          3.0          5.0  5.899885                     3.0\n",
              "cluster 4          6.0          7.0  8.316594                     5.0"
            ]
          },
          "metadata": {
            "tags": []
          },
          "execution_count": 23
        }
      ]
    },
    {
      "cell_type": "markdown",
      "metadata": {
        "id": "3A57ycqltuON",
        "colab_type": "text"
      },
      "source": [
        "## 3. Cost function 구현\n",
        "## $$cost(W) =  \\frac{1}{n}\\sum_{i=1}^n (Wx^{(i)}-y^{(i)})^2$$"
      ]
    },
    {
      "cell_type": "markdown",
      "metadata": {
        "id": "LS7Qtqm14hg-",
        "colab_type": "text"
      },
      "source": [
        "### 데이터(X, Y)"
      ]
    },
    {
      "cell_type": "code",
      "metadata": {
        "id": "iKpEGob-4EbZ",
        "colab_type": "code",
        "colab": {}
      },
      "source": [
        "# 제공된 데이터는 변경 할 수 없습니다.\n",
        "x = [1, 2, 3]\n",
        "y = [2, 4, 6]"
      ],
      "execution_count": 0,
      "outputs": []
    },
    {
      "cell_type": "markdown",
      "metadata": {
        "id": "AWaFS6a54vCL",
        "colab_type": "text"
      },
      "source": [
        "### cost function을 파이썬으로 구현하세요.\n",
        "pass를 지우고 cost_func 함수를 완성하세요.\n",
        "\n",
        "가중치(Weight)를 입력하면 코스트(cost)를 계산하는 함수를 만드는게 목적입니다."
      ]
    },
    {
      "cell_type": "code",
      "metadata": {
        "id": "LT3q8ACK4ezT",
        "colab_type": "code",
        "colab": {}
      },
      "source": [
        "# W(가중치) 데이터 타입 -> int or float\n",
        "# x(학습 데이터) 데이터 타입 -> list\n",
        "# y(정답 데이터) 데이터 타입 -> list\n",
        "# cost_func 함수 리턴값 타입 -> float\n",
        "# cost_func 함수 리턴값 = cost 값\n",
        "# W:가중치, x:학습 데이터 y:정답 데이터\n",
        "\n",
        "def cost_func(W, x, y):\n",
        "  n = len(x)\n",
        "  result = 0\n",
        "  for i in range(0, n):\n",
        "    A = ((W*x[i]-y[i])**2)/n\n",
        "    result += A\n",
        "  return result"
      ],
      "execution_count": 0,
      "outputs": []
    },
    {
      "cell_type": "markdown",
      "metadata": {
        "id": "lP20Ia-Reb49",
        "colab_type": "text"
      },
      "source": [
        "예시) x가 [1, 2] 이고 y가 [3, 6] 그리고 W가 4 일 경우  cost_func(W, x, y)함수의 리턴값은 2.5"
      ]
    },
    {
      "cell_type": "markdown",
      "metadata": {
        "id": "x4DoGgO9uZi2",
        "colab_type": "text"
      },
      "source": [
        "### cost_func을 활용하여 웨이트(Weight)가 -5부터 5까지의 변화에 따른 코스트(cost)를 출력 해주세요."
      ]
    },
    {
      "cell_type": "code",
      "metadata": {
        "id": "3XfP0-zIXQF6",
        "colab_type": "code",
        "outputId": "12fd4399-eb91-4e39-b561-ad1f8acde37c",
        "colab": {
          "base_uri": "https://localhost:8080/",
          "height": 215
        }
      },
      "source": [
        "# 여기 코드셀은 변경하지 마세요.\n",
        "# 완성된 함수를 확인하는 과정으로 해당 코드셀을 실행해서 정상 출력되면 정답!\n",
        "# 주의! 에러가 날 경우 데이터 코드셀과 cost function 코드셀을 실행했는지 확인해주세요.\n",
        "for feed_W in range(-5, 6, 1):\n",
        "  curr_cost = cost_func(feed_W, x, y)\n",
        "  print(\"{:6.3f} | {:10.5f}\".format(feed_W, curr_cost))"
      ],
      "execution_count": 26,
      "outputs": [
        {
          "output_type": "stream",
          "text": [
            "-5.000 |  228.66667\n",
            "-4.000 |  168.00000\n",
            "-3.000 |  116.66667\n",
            "-2.000 |   74.66667\n",
            "-1.000 |   42.00000\n",
            " 0.000 |   18.66667\n",
            " 1.000 |    4.66667\n",
            " 2.000 |    0.00000\n",
            " 3.000 |    4.66667\n",
            " 4.000 |   18.66667\n",
            " 5.000 |   42.00000\n"
          ],
          "name": "stdout"
        }
      ]
    }
  ]
}