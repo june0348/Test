{
  "nbformat": 4,
  "nbformat_minor": 0,
  "metadata": {
    "colab": {
      "name": "목차",
      "provenance": [],
      "authorship_tag": "ABX9TyNjnpoqMKYiyFTr9XwRHjib",
      "include_colab_link": true
    },
    "kernelspec": {
      "name": "python3",
      "display_name": "Python 3"
    }
  },
  "cells": [
    {
      "cell_type": "markdown",
      "metadata": {
        "id": "view-in-github",
        "colab_type": "text"
      },
      "source": [
        "<a href=\"https://colab.research.google.com/github/june0348/Test/blob/master/%EB%AA%A9%EC%B0%A8.ipynb\" target=\"_parent\"><img src=\"https://colab.research.google.com/assets/colab-badge.svg\" alt=\"Open In Colab\"/></a>"
      ]
    },
    {
      "cell_type": "markdown",
      "metadata": {
        "id": "U8uGI8JCclrm",
        "colab_type": "text"
      },
      "source": [
        "# 인공지능 사관학교 프리코스 과제 목차\n",
        "\n",
        "## 1주차 과제 (2020.05.21)\n",
        "\n",
        "[1주차](https://github.com/june0348/Test/blob/master/1%EC%A3%BC%EC%B0%A8%EA%B3%BC%EC%A0%9C_%EA%B9%80%EC%A4%80%EB%AF%BC.ipynb)\n",
        "\n",
        "## 2주차 과제 (2020.05.28)\n",
        "\n",
        "[2주차](https://github.com/june0348/Test/blob/master/2%EC%A3%BC%EC%B0%A8%EA%B3%BC%EC%A0%9C_%EA%B9%80%EC%A4%80%EB%AF%BC.ipynb)\n",
        "\n",
        "## 3주차 과제 (2020.06.04)\n",
        "[3주차](https://github.com/june0348/Test/blob/master/3%EC%A3%BC%EC%B0%A8_%EA%B3%BC%EC%A0%9C_%EA%B9%80%EC%A4%80%EB%AF%BC.ipynb)\n",
        "\n",
        "## 4주차 과제 (2020.06.11)\n",
        "[4주차](https://github.com/june0348/Test/blob/master/4%EC%A3%BC%EC%B0%A8%EA%B3%BC%EC%A0%9C_%EA%B9%80%EC%A4%80%EB%AF%BC.ipynb)\n"
      ]
    },
    {
      "cell_type": "code",
      "metadata": {
        "id": "B2Fy-CC-ckf5",
        "colab_type": "code",
        "colab": {}
      },
      "source": [
        ""
      ],
      "execution_count": null,
      "outputs": []
    }
  ]
}